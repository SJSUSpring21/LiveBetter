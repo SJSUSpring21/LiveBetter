{
 "cells": [
  {
   "cell_type": "code",
   "execution_count": 33,
   "metadata": {},
   "outputs": [],
   "source": [
    "import pandas as pd\n",
    "import numpy as np\n",
    "import requests\n",
    "import json"
   ]
  },
  {
   "cell_type": "code",
   "execution_count": 127,
   "metadata": {
    "scrolled": false
   },
   "outputs": [
    {
     "data": {
      "text/html": [
       "<div>\n",
       "<style scoped>\n",
       "    .dataframe tbody tr th:only-of-type {\n",
       "        vertical-align: middle;\n",
       "    }\n",
       "\n",
       "    .dataframe tbody tr th {\n",
       "        vertical-align: top;\n",
       "    }\n",
       "\n",
       "    .dataframe thead th {\n",
       "        text-align: right;\n",
       "    }\n",
       "</style>\n",
       "<table border=\"1\" class=\"dataframe\">\n",
       "  <thead>\n",
       "    <tr style=\"text-align: right;\">\n",
       "      <th></th>\n",
       "      <th>Park_Name</th>\n",
       "      <th>Park_Addre</th>\n",
       "      <th>Park_Zip</th>\n",
       "      <th>Park_State</th>\n",
       "      <th>Park_Count</th>\n",
       "      <th>Park_Place</th>\n",
       "    </tr>\n",
       "  </thead>\n",
       "  <tbody>\n",
       "    <tr>\n",
       "      <th>0</th>\n",
       "      <td>Hampton Hills Park</td>\n",
       "      <td>1285 Bath Rd</td>\n",
       "      <td>44223.0</td>\n",
       "      <td>Ohio</td>\n",
       "      <td>Summit County</td>\n",
       "      <td>Cuyahoga Falls city</td>\n",
       "    </tr>\n",
       "    <tr>\n",
       "      <th>1</th>\n",
       "      <td>Frank Boulevard Park</td>\n",
       "      <td>2086 Stockbridge Rd</td>\n",
       "      <td>44313.0</td>\n",
       "      <td>Ohio</td>\n",
       "      <td>Summit County</td>\n",
       "      <td>Akron city</td>\n",
       "    </tr>\n",
       "    <tr>\n",
       "      <th>2</th>\n",
       "      <td>Fairlawn Heights Park</td>\n",
       "      <td>Fairlawn Blvd</td>\n",
       "      <td>44313.0</td>\n",
       "      <td>Ohio</td>\n",
       "      <td>Summit County</td>\n",
       "      <td>Akron city</td>\n",
       "    </tr>\n",
       "    <tr>\n",
       "      <th>3</th>\n",
       "      <td>Northwest Park</td>\n",
       "      <td>1730 Shatto Ave</td>\n",
       "      <td>44313.0</td>\n",
       "      <td>Ohio</td>\n",
       "      <td>Summit County</td>\n",
       "      <td>Akron city</td>\n",
       "    </tr>\n",
       "    <tr>\n",
       "      <th>4</th>\n",
       "      <td>Westgate Manor Park</td>\n",
       "      <td>W Market St</td>\n",
       "      <td>44313.0</td>\n",
       "      <td>Ohio</td>\n",
       "      <td>Summit County</td>\n",
       "      <td>Akron city</td>\n",
       "    </tr>\n",
       "    <tr>\n",
       "      <th>...</th>\n",
       "      <td>...</td>\n",
       "      <td>...</td>\n",
       "      <td>...</td>\n",
       "      <td>...</td>\n",
       "      <td>...</td>\n",
       "      <td>...</td>\n",
       "    </tr>\n",
       "    <tr>\n",
       "      <th>129797</th>\n",
       "      <td>RiverPark Pool &amp; Park</td>\n",
       "      <td></td>\n",
       "      <td>77479.0</td>\n",
       "      <td>Texas</td>\n",
       "      <td>Fort Bend County</td>\n",
       "      <td>Sugar Land city</td>\n",
       "    </tr>\n",
       "    <tr>\n",
       "      <th>129798</th>\n",
       "      <td>Searls Pool &amp; Park</td>\n",
       "      <td></td>\n",
       "      <td>77478.0</td>\n",
       "      <td>Texas</td>\n",
       "      <td>Fort Bend County</td>\n",
       "      <td>Sugar Land city</td>\n",
       "    </tr>\n",
       "    <tr>\n",
       "      <th>129799</th>\n",
       "      <td>The Lakes Park</td>\n",
       "      <td></td>\n",
       "      <td>77479.0</td>\n",
       "      <td>Texas</td>\n",
       "      <td>Fort Bend County</td>\n",
       "      <td>Sugar Land city</td>\n",
       "    </tr>\n",
       "    <tr>\n",
       "      <th>129800</th>\n",
       "      <td>Sugar Lakes - The Landing Park</td>\n",
       "      <td></td>\n",
       "      <td>77478.0</td>\n",
       "      <td>Texas</td>\n",
       "      <td>Fort Bend County</td>\n",
       "      <td>Sugar Land city</td>\n",
       "    </tr>\n",
       "    <tr>\n",
       "      <th>129801</th>\n",
       "      <td>Ashford Lakes Trail</td>\n",
       "      <td></td>\n",
       "      <td>77478.0</td>\n",
       "      <td>Texas</td>\n",
       "      <td>Fort Bend County</td>\n",
       "      <td>Sugar Land city</td>\n",
       "    </tr>\n",
       "  </tbody>\n",
       "</table>\n",
       "<p>129802 rows × 6 columns</p>\n",
       "</div>"
      ],
      "text/plain": [
       "                             Park_Name           Park_Addre Park_Zip  \\\n",
       "0                   Hampton Hills Park         1285 Bath Rd  44223.0   \n",
       "1                 Frank Boulevard Park  2086 Stockbridge Rd  44313.0   \n",
       "2                Fairlawn Heights Park        Fairlawn Blvd  44313.0   \n",
       "3                       Northwest Park      1730 Shatto Ave  44313.0   \n",
       "4                  Westgate Manor Park          W Market St  44313.0   \n",
       "...                                ...                  ...      ...   \n",
       "129797           RiverPark Pool & Park                       77479.0   \n",
       "129798              Searls Pool & Park                       77478.0   \n",
       "129799                  The Lakes Park                       77479.0   \n",
       "129800  Sugar Lakes - The Landing Park                       77478.0   \n",
       "129801             Ashford Lakes Trail                       77478.0   \n",
       "\n",
       "       Park_State        Park_Count           Park_Place  \n",
       "0            Ohio     Summit County  Cuyahoga Falls city  \n",
       "1            Ohio     Summit County           Akron city  \n",
       "2            Ohio     Summit County           Akron city  \n",
       "3            Ohio     Summit County           Akron city  \n",
       "4            Ohio     Summit County           Akron city  \n",
       "...           ...               ...                  ...  \n",
       "129797      Texas  Fort Bend County      Sugar Land city  \n",
       "129798      Texas  Fort Bend County      Sugar Land city  \n",
       "129799      Texas  Fort Bend County      Sugar Land city  \n",
       "129800      Texas  Fort Bend County      Sugar Land city  \n",
       "129801      Texas  Fort Bend County      Sugar Land city  \n",
       "\n",
       "[129802 rows x 6 columns]"
      ]
     },
     "execution_count": 127,
     "metadata": {},
     "output_type": "execute_result"
    }
   ],
   "source": [
    "df_parks = pd.read_csv('Parks/Parks.csv')\n",
    "df_parks = df_parks.fillna('')\n",
    "df_parks"
   ]
  },
  {
   "cell_type": "code",
   "execution_count": 128,
   "metadata": {},
   "outputs": [
    {
     "data": {
      "text/plain": [
       "Index(['Park_Name', 'Park_Addre', 'Park_Zip', 'Park_State', 'Park_Count',\n",
       "       'Park_Place'],\n",
       "      dtype='object')"
      ]
     },
     "execution_count": 128,
     "metadata": {},
     "output_type": "execute_result"
    }
   ],
   "source": [
    "df_parks.columns"
   ]
  },
  {
   "cell_type": "code",
   "execution_count": 169,
   "metadata": {
    "scrolled": true
   },
   "outputs": [
    {
     "data": {
      "text/plain": [
       "(129802, 4)"
      ]
     },
     "execution_count": 169,
     "metadata": {},
     "output_type": "execute_result"
    }
   ],
   "source": [
    "addresses = df_parks[['Park_Addre', 'Park_Zip', 'Park_State', 'Park_Count']].to_numpy()\n",
    "addresses.shape"
   ]
  },
  {
   "cell_type": "code",
   "execution_count": 170,
   "metadata": {},
   "outputs": [
    {
     "data": {
      "text/plain": [
       "(129802,)"
      ]
     },
     "execution_count": 170,
     "metadata": {},
     "output_type": "execute_result"
    }
   ],
   "source": [
    "names = df_parks['Park_Name']\n",
    "names.shape"
   ]
  },
  {
   "cell_type": "code",
   "execution_count": 208,
   "metadata": {},
   "outputs": [],
   "source": [
    "def get_lat_long(query):\n",
    "    response = requests.get(query)\n",
    "    \n",
    "    lat = ''\n",
    "    lng = ''\n",
    "    \n",
    "    try:\n",
    "        response = response.json()\n",
    "    except:\n",
    "        print(\"Error when running response.json()\\n\",query)\n",
    "        return lat, lng \n",
    "    \n",
    "    if(response):\n",
    "        lat = float(response[0]['lat'])\n",
    "        lng = float(response[0]['lon'])    \n",
    "        \n",
    "    return lat, lng"
   ]
  },
  {
   "cell_type": "code",
   "execution_count": 216,
   "metadata": {},
   "outputs": [],
   "source": [
    "def get_all_lat_long(names, addresses):\n",
    "    url = \"https://nominatim.openstreetmap.org/search?\"\n",
    "\n",
    "    latitudes = np.array([])\n",
    "    longitudes = np.array([])\n",
    "    for i in range(len(addresses)):\n",
    "\n",
    "        query_array=[]\n",
    "        # address\n",
    "        if(addresses[i][0] != ''):\n",
    "            query_array.append(\"street=\" + addresses[i][0].replace(' ','+'))\n",
    "\n",
    "        # zip\n",
    "        if(addresses[i][1] != ''):\n",
    "            query_array.append(\"postalcode=\" + str(int(addresses[i][1])))\n",
    "\n",
    "        # state\n",
    "        if(addresses[i][2] != ''):\n",
    "            query_array.append(\"state=\" + addresses[i][2].replace(' ','+'))\n",
    "\n",
    "        # county\n",
    "        if(addresses[i][3] != ''):\n",
    "            query_array.append(\"county=\" + addresses[i][3].replace(' ','+'))\n",
    "\n",
    "        query_array.append(\"country=United+States\")\n",
    "        query_array.append(\"limit=1\")\n",
    "\n",
    "        query = url + '&'.join(query_array,) + \"&format=json\"\n",
    "        \n",
    "        lat, lng = get_lat_long(query)\n",
    "        \n",
    "        print(i, \"complete...\", end='\\r')\n",
    "\n",
    "        latitudes = np.append(latitudes, lat)\n",
    "        longitudes = np.append(longitudes, lng)\n",
    "                    \n",
    "    df_lat = pd.DataFrame(latitudes)\n",
    "    df_lon = pd.DataFrame(longitudes)\n",
    "    \n",
    "    df_all = pd.concat([names,df_lat,df_lon],axis=1)\n",
    "    df_all.columns=['Name','lat','lng']\n",
    "    return df_all\n",
    "        "
   ]
  },
  {
   "cell_type": "code",
   "execution_count": 217,
   "metadata": {
    "scrolled": true
   },
   "outputs": [
    {
     "name": "stdout",
     "output_type": "stream",
     "text": [
      "Error when running response.json()\n",
      " https://nominatim.openstreetmap.org/search?street=#+1+Poydras&postalcode=70130&state=Louisiana&county=Orleans+Parish&country=United+States&limit=1&format=json\n",
      "Error when running response.json()\n",
      " https://nominatim.openstreetmap.org/search?street=3103+E+BANBURY+RD+#+APXBT&postalcode=84121&state=Utah&county=Salt+Lake+County&country=United+States&limit=1&format=json\n",
      "Error when running response.json()\n",
      " https://nominatim.openstreetmap.org/search?street=507+Florida+Ave+#204&postalcode=20170&state=Virginia&county=Fairfax+County&country=United+States&limit=1&format=json\n",
      "Error when running response.json()\n",
      " https://nominatim.openstreetmap.org/search?street=8645+Marhis+Ave+#102&postalcode=22079&state=Virginia&county=Fairfax+County&country=United+States&limit=1&format=json\n",
      "Error when running response.json()\n",
      " https://nominatim.openstreetmap.org/search?street=Kenmore+Drive+and+Charleston+Terrace,+#1+Cul+De+Sac&postalcode=20007&state=District+of+Columbia&county=District+of+Columbia&country=United+States&limit=1&format=json\n",
      "Error when running response.json()\n",
      " https://nominatim.openstreetmap.org/search?street=Kenmore+Drive+and+Charleston+Terrace,+#2+Cul+De+Sac&postalcode=20007&state=District+of+Columbia&county=District+of+Columbia&country=United+States&limit=1&format=json\n",
      "Error when running response.json()\n",
      " https://nominatim.openstreetmap.org/search?street=North+Ajo+Well+Road+#1&postalcode=85321&state=Arizona&county=Pima+County&country=United+States&limit=1&format=json\n",
      "Error when running response.json()\n",
      " https://nominatim.openstreetmap.org/search?street=1806+NW+82ND+AVE+#+PARK&postalcode=33071&state=Florida&county=Broward+County&country=United+States&limit=1&format=json\n",
      "Error when running response.json()\n",
      " https://nominatim.openstreetmap.org/search?street=4391+RIVERSIDE+DR+#+PARK&postalcode=33065&state=Florida&county=Broward+County&country=United+States&limit=1&format=json\n",
      "Error when running response.json()\n",
      " https://nominatim.openstreetmap.org/search?street=520+RAMBLEWOOD+DR+#+PARK&postalcode=33071&state=Florida&county=Broward+County&country=United+States&limit=1&format=json\n",
      "Error when running response.json()\n",
      " https://nominatim.openstreetmap.org/search?street=10050+NW+11TH+MNR+#+PARK&postalcode=33071&state=Florida&county=Broward+County&country=United+States&limit=1&format=json\n",
      "Error when running response.json()\n",
      " https://nominatim.openstreetmap.org/search?street=6400+WILES+RD+#+PARK&postalcode=33065&state=Florida&county=Broward+County&country=United+States&limit=1&format=json\n",
      "Error when running response.json()\n",
      " https://nominatim.openstreetmap.org/search?street=1600+NW+91ST+AVE+#+PARK&postalcode=33071&state=Florida&county=Broward+County&country=United+States&limit=1&format=json\n",
      "Error when running response.json()\n",
      " https://nominatim.openstreetmap.org/search?street=9350+SW+1ST+PL+#+PARK&postalcode=33071&state=Florida&county=Broward+County&country=United+States&limit=1&format=json\n",
      "Error when running response.json()\n",
      " https://nominatim.openstreetmap.org/search?street=8601+ROYAL+PALM+BLVD+#+PARK&postalcode=33065&state=Florida&county=Broward+County&country=United+States&limit=1&format=json\n",
      "Error when running response.json()\n",
      " https://nominatim.openstreetmap.org/search?street=3800+NW+115TH+AVE+#+PARK&postalcode=33065&state=Florida&county=Broward+County&country=United+States&limit=1&format=json\n",
      "Error when running response.json()\n",
      " https://nominatim.openstreetmap.org/search?street=5601+CORAL+SPRINGS+DR+#+PARK&postalcode=33076&state=Florida&county=Broward+County&country=United+States&limit=1&format=json\n",
      "Error when running response.json()\n",
      " https://nominatim.openstreetmap.org/search?street=205+CORAL+RIDGE+DR+#+PARK&postalcode=33071&state=Florida&county=Broward+County&country=United+States&limit=1&format=json\n",
      "Error when running response.json()\n",
      " https://nominatim.openstreetmap.org/search?street=4800+RIVERSIDE+DR+#+PARK&postalcode=33067&state=Florida&county=Broward+County&country=United+States&limit=1&format=json\n",
      "Error when running response.json()\n",
      " https://nominatim.openstreetmap.org/search?street=3795+NW+108TH+DR+#+PARK&postalcode=33065&state=Florida&county=Broward+County&country=United+States&limit=1&format=json\n",
      "Error when running response.json()\n",
      " https://nominatim.openstreetmap.org/search?street=3700+TURTLE+RUN+BLVD+#+PARK&postalcode=33065&state=Florida&county=Broward+County&country=United+States&limit=1&format=json\n",
      "Error when running response.json()\n",
      " https://nominatim.openstreetmap.org/search?street=8850+NW+44TH+CT+#+PARK&postalcode=33065&state=Florida&county=Broward+County&country=United+States&limit=1&format=json\n",
      "Error when running response.json()\n",
      " https://nominatim.openstreetmap.org/search?street=9701+NW+19TH+ST+#+PARK&postalcode=33071&state=Florida&county=Broward+County&country=United+States&limit=1&format=json\n",
      "Error when running response.json()\n",
      " https://nominatim.openstreetmap.org/search?street=8395+NW+14TH+CT+#+PARK&postalcode=33071&state=Florida&county=Broward+County&country=United+States&limit=1&format=json\n",
      "Error when running response.json()\n",
      " https://nominatim.openstreetmap.org/search?street=11400+WYNDHAM+LAKES+BLVD+N+#+PARK&postalcode=33076&state=Florida&county=Broward+County&country=United+States&limit=1&format=json\n",
      "Error when running response.json()\n",
      " https://nominatim.openstreetmap.org/search?street=10191+NW+39TH+CT+#+PARK&postalcode=33065&state=Florida&county=Broward+County&country=United+States&limit=1&format=json\n",
      "Error when running response.json()\n",
      " https://nominatim.openstreetmap.org/search?street=11501+LAKEVIEW+DR+#+PARK&postalcode=33071&state=Florida&county=Broward+County&country=United+States&limit=1&format=json\n",
      "Error when running response.json()\n",
      " https://nominatim.openstreetmap.org/search?street=4801+NW+66TH+TER+#+PARK&postalcode=33067&state=Florida&county=Broward+County&country=United+States&limit=1&format=json\n",
      "Error when running response.json()\n",
      " https://nominatim.openstreetmap.org/search?street=3700+SANCTUARY+DR+#+PARK&postalcode=33065&state=Florida&county=Broward+County&country=United+States&limit=1&format=json\n",
      "Error when running response.json()\n",
      " https://nominatim.openstreetmap.org/search?street=10100+NW+6TH+ST+#+PARK&postalcode=33071&state=Florida&county=Broward+County&country=United+States&limit=1&format=json\n",
      "Error when running response.json()\n",
      " https://nominatim.openstreetmap.org/search?street=4300+NW+69TH+LN+#+PARK&postalcode=33065&state=Florida&county=Broward+County&country=United+States&limit=1&format=json\n",
      "Error when running response.json()\n",
      " https://nominatim.openstreetmap.org/search?street=10301+WILES+RD+#+PARK&postalcode=33076&state=Florida&county=Broward+County&country=United+States&limit=1&format=json\n",
      "Error when running response.json()\n",
      " https://nominatim.openstreetmap.org/search?street=2500+FOREST+HILLS+BLVD+#+PARK&postalcode=33065&state=Florida&county=Broward+County&country=United+States&limit=1&format=json\n",
      "Error when running response.json()\n",
      " https://nominatim.openstreetmap.org/search?street=3700+SANCTUARY+DR+#+PARK&postalcode=33065&state=Florida&county=Broward+County&country=United+States&limit=1&format=json\n",
      "Error when running response.json()\n",
      " https://nominatim.openstreetmap.org/search?street=1600+NW+91ST+AVE+#+PARK&postalcode=33071&state=Florida&county=Broward+County&country=United+States&limit=1&format=json\n",
      "Error when running response.json()\n",
      " https://nominatim.openstreetmap.org/search?street=11650+NW+20TH+DR+#+PARK&postalcode=33071&state=Florida&county=Broward+County&country=United+States&limit=1&format=json\n",
      "Error when running response.json()\n",
      " https://nominatim.openstreetmap.org/search?street=8095+WILES+RD+#+PARK&postalcode=33067&state=Florida&county=Broward+County&country=United+States&limit=1&format=json\n",
      "Error when running response.json()\n",
      " https://nominatim.openstreetmap.org/search?street=8200+NW+39TH+ST+#+PARK&postalcode=33065&state=Florida&county=Broward+County&country=United+States&limit=1&format=json\n",
      "Error when running response.json()\n",
      " https://nominatim.openstreetmap.org/search?street=6101+NW+66TH+TER+#+PARK&postalcode=33067&state=Florida&county=Broward+County&country=United+States&limit=1&format=json\n",
      "Error when running response.json()\n",
      " https://nominatim.openstreetmap.org/search?street=1600+NW+91ST+AVE+#+PARK&postalcode=33071&state=Florida&county=Broward+County&country=United+States&limit=1&format=json\n"
     ]
    },
    {
     "name": "stdout",
     "output_type": "stream",
     "text": [
      "Error when running response.json()\n",
      " https://nominatim.openstreetmap.org/search?street=3200+RIVERSIDE+DR+#+PARK&postalcode=33065&state=Florida&county=Broward+County&country=United+States&limit=1&format=json\n",
      "Error when running response.json()\n",
      " https://nominatim.openstreetmap.org/search?street=3830+CORAL+SPRINGS+DR+#+PARK&postalcode=33065&state=Florida&county=Broward+County&country=United+States&limit=1&format=json\n",
      "Error when running response.json()\n",
      " https://nominatim.openstreetmap.org/search?street=8537+NW+38TH+DR+#+PARK&postalcode=33065&state=Florida&county=Broward+County&country=United+States&limit=1&format=json\n",
      "Error when running response.json()\n",
      " https://nominatim.openstreetmap.org/search?street=11900+NW+30TH+ST+#+PARK&postalcode=33065&state=Florida&county=Broward+County&country=United+States&limit=1&format=json\n",
      "Error when running response.json()\n",
      " https://nominatim.openstreetmap.org/search?street=10284+SW+1ST+CT+#+PARK&postalcode=33321&state=Florida&county=Broward+County&country=United+States&limit=1&format=json\n",
      "Error when running response.json()\n",
      " https://nominatim.openstreetmap.org/search?street=10201+NW+19TH+ST+#+PARK&postalcode=33071&state=Florida&county=Broward+County&country=United+States&limit=1&format=json\n",
      "Error when running response.json()\n",
      " https://nominatim.openstreetmap.org/search?street=3700+SANCTUARY+DR+#+PARK&postalcode=33065&state=Florida&county=Broward+County&country=United+States&limit=1&format=json\n",
      "Error when running response.json()\n",
      " https://nominatim.openstreetmap.org/search?street=8501+NW+40TH+ST+#+PARK&postalcode=33065&state=Florida&county=Broward+County&country=United+States&limit=1&format=json\n",
      "Error when running response.json()\n",
      " https://nominatim.openstreetmap.org/search?street=11650+NW+20TH+DR+#+PARK&postalcode=33071&state=Florida&county=Broward+County&country=United+States&limit=1&format=json\n",
      "Error when running response.json()\n",
      " https://nominatim.openstreetmap.org/search?street=712+Genesi+Drive+#5,+Morganville,+NJ+07751&postalcode=7751&state=New+Jersey&county=Monmouth+County&country=United+States&limit=1&format=json\n",
      "Error when running response.json()\n",
      " https://nominatim.openstreetmap.org/search?street=#1+Special+Events+Center&postalcode=78526&state=Texas&county=Cameron+County&country=United+States&limit=1&format=json\n",
      "Error when running response.json()\n",
      " https://nominatim.openstreetmap.org/search?street=1200+blk+of+Richwood+Rd.+#1&postalcode=71202&state=Louisiana&county=Ouachita+Parish&country=United+States&limit=1&format=json\n",
      "Error when running response.json()\n",
      " https://nominatim.openstreetmap.org/search?street=11+Jersey+St+#+13&postalcode=1463&state=Massachusetts&county=Middlesex+County&country=United+States&limit=1&format=json\n",
      "Error when running response.json()\n",
      " https://nominatim.openstreetmap.org/search?street=1800+Colt+Cir,+#10+&+#11&postalcode=78654&state=Texas&county=Burnet+County&country=United+States&limit=1&format=json\n",
      "Error when running response.json()\n",
      " https://nominatim.openstreetmap.org/search?street=1800+N+10TH+AVE+#30&postalcode=16601&state=Pennsylvania&county=Blair+County&country=United+States&limit=1&format=json\n",
      "Error when running response.json()\n",
      " https://nominatim.openstreetmap.org/search?street=200+24TH+ST+#30&postalcode=16601&state=Pennsylvania&county=Blair+County&country=United+States&limit=1&format=json\n",
      "Error when running response.json()\n",
      " https://nominatim.openstreetmap.org/search?street=1401+15TH+AVE+#35&postalcode=16601&state=Pennsylvania&county=Blair+County&country=United+States&limit=1&format=json\n",
      "Error when running response.json()\n",
      " https://nominatim.openstreetmap.org/search?street=1011+25TH+AVE+#1209&postalcode=16601&state=Pennsylvania&county=Blair+County&country=United+States&limit=1&format=json\n",
      "Error when running response.json()\n",
      " https://nominatim.openstreetmap.org/search?street=2803+UNION+AVE+#09&postalcode=16602&state=Pennsylvania&county=Blair+County&country=United+States&limit=1&format=json\n",
      "Error when running response.json()\n",
      " https://nominatim.openstreetmap.org/search?street=300+E+Crawford+Ave+#30&postalcode=16602&state=Pennsylvania&county=Blair+County&country=United+States&limit=1&format=json\n",
      "Error when running response.json()\n",
      " https://nominatim.openstreetmap.org/search?street=812+Pleasant+Valley+Blvd+#890&postalcode=16602&state=Pennsylvania&county=Blair+County&country=United+States&limit=1&format=json\n",
      "Error when running response.json()\n",
      " https://nominatim.openstreetmap.org/search?street=2900+S+10th+Ave+#3032&postalcode=16601&state=Pennsylvania&county=Blair+County&country=United+States&limit=1&format=json\n",
      "Error when running response.json()\n",
      " https://nominatim.openstreetmap.org/search?street=Sweet+Farm+Rd+#9&postalcode=1267&state=Massachusetts&county=Berkshire+County&country=United+States&limit=1&format=json\n",
      "Error when running response.json()\n",
      " https://nominatim.openstreetmap.org/search?street=2600+Bayshore+Rd+#+1,+Villas,+NJ+08251&postalcode=8251&state=New+Jersey&county=Cape+May+County&country=United+States&limit=1&format=json\n",
      "129801 complete...\r"
     ]
    },
    {
     "data": {
      "text/html": [
       "<div>\n",
       "<style scoped>\n",
       "    .dataframe tbody tr th:only-of-type {\n",
       "        vertical-align: middle;\n",
       "    }\n",
       "\n",
       "    .dataframe tbody tr th {\n",
       "        vertical-align: top;\n",
       "    }\n",
       "\n",
       "    .dataframe thead th {\n",
       "        text-align: right;\n",
       "    }\n",
       "</style>\n",
       "<table border=\"1\" class=\"dataframe\">\n",
       "  <thead>\n",
       "    <tr style=\"text-align: right;\">\n",
       "      <th></th>\n",
       "      <th>Name</th>\n",
       "      <th>lat</th>\n",
       "      <th>lng</th>\n",
       "    </tr>\n",
       "  </thead>\n",
       "  <tbody>\n",
       "    <tr>\n",
       "      <th>0</th>\n",
       "      <td>Hampton Hills Park</td>\n",
       "      <td>41.16705360433309</td>\n",
       "      <td>-81.55086971230959</td>\n",
       "    </tr>\n",
       "    <tr>\n",
       "      <th>1</th>\n",
       "      <td>Frank Boulevard Park</td>\n",
       "      <td>41.10977022746043</td>\n",
       "      <td>-81.59050331127713</td>\n",
       "    </tr>\n",
       "    <tr>\n",
       "      <th>2</th>\n",
       "      <td>Fairlawn Heights Park</td>\n",
       "      <td>41.112358</td>\n",
       "      <td>-81.592631</td>\n",
       "    </tr>\n",
       "    <tr>\n",
       "      <th>3</th>\n",
       "      <td>Northwest Park</td>\n",
       "      <td>41.11585335</td>\n",
       "      <td>-81.57492348837991</td>\n",
       "    </tr>\n",
       "    <tr>\n",
       "      <th>4</th>\n",
       "      <td>Westgate Manor Park</td>\n",
       "      <td>41.1108087</td>\n",
       "      <td>-81.5719983</td>\n",
       "    </tr>\n",
       "    <tr>\n",
       "      <th>...</th>\n",
       "      <td>...</td>\n",
       "      <td>...</td>\n",
       "      <td>...</td>\n",
       "    </tr>\n",
       "    <tr>\n",
       "      <th>129797</th>\n",
       "      <td>RiverPark Pool &amp; Park</td>\n",
       "      <td>29.511218</td>\n",
       "      <td>-95.7807348</td>\n",
       "    </tr>\n",
       "    <tr>\n",
       "      <th>129798</th>\n",
       "      <td>Searls Pool &amp; Park</td>\n",
       "      <td>29.511218</td>\n",
       "      <td>-95.7807348</td>\n",
       "    </tr>\n",
       "    <tr>\n",
       "      <th>129799</th>\n",
       "      <td>The Lakes Park</td>\n",
       "      <td>29.511218</td>\n",
       "      <td>-95.7807348</td>\n",
       "    </tr>\n",
       "    <tr>\n",
       "      <th>129800</th>\n",
       "      <td>Sugar Lakes - The Landing Park</td>\n",
       "      <td>29.511218</td>\n",
       "      <td>-95.7807348</td>\n",
       "    </tr>\n",
       "    <tr>\n",
       "      <th>129801</th>\n",
       "      <td>Ashford Lakes Trail</td>\n",
       "      <td>29.511218</td>\n",
       "      <td>-95.7807348</td>\n",
       "    </tr>\n",
       "  </tbody>\n",
       "</table>\n",
       "<p>129802 rows × 3 columns</p>\n",
       "</div>"
      ],
      "text/plain": [
       "                                  Name                lat                 lng\n",
       "0                   Hampton Hills Park  41.16705360433309  -81.55086971230959\n",
       "1                 Frank Boulevard Park  41.10977022746043  -81.59050331127713\n",
       "2                Fairlawn Heights Park          41.112358          -81.592631\n",
       "3                       Northwest Park        41.11585335  -81.57492348837991\n",
       "4                  Westgate Manor Park         41.1108087         -81.5719983\n",
       "...                                ...                ...                 ...\n",
       "129797           RiverPark Pool & Park          29.511218         -95.7807348\n",
       "129798              Searls Pool & Park          29.511218         -95.7807348\n",
       "129799                  The Lakes Park          29.511218         -95.7807348\n",
       "129800  Sugar Lakes - The Landing Park          29.511218         -95.7807348\n",
       "129801             Ashford Lakes Trail          29.511218         -95.7807348\n",
       "\n",
       "[129802 rows x 3 columns]"
      ]
     },
     "execution_count": 217,
     "metadata": {},
     "output_type": "execute_result"
    }
   ],
   "source": [
    "df_lat_lng = get_all_lat_long(names, addresses)\n",
    "df_lat_lng"
   ]
  },
  {
   "cell_type": "code",
   "execution_count": 218,
   "metadata": {},
   "outputs": [],
   "source": [
    "df_lat_lng.to_csv('Parks/Parks_Condensed.csv',index=False)"
   ]
  },
  {
   "cell_type": "code",
   "execution_count": 230,
   "metadata": {},
   "outputs": [
    {
     "data": {
      "text/plain": [
       "(129802, 3)"
      ]
     },
     "execution_count": 230,
     "metadata": {},
     "output_type": "execute_result"
    }
   ],
   "source": [
    "df_lat_lng.shape"
   ]
  },
  {
   "cell_type": "code",
   "execution_count": 267,
   "metadata": {},
   "outputs": [
    {
     "data": {
      "text/plain": [
       "(119042, 3)"
      ]
     },
     "execution_count": 267,
     "metadata": {},
     "output_type": "execute_result"
    }
   ],
   "source": [
    "index_names = df_lat_lng[df_lat_lng['lat']==''].index\n",
    "\n",
    "df_lat_lng_drop = df_lat_lng.drop(index_names)\n",
    "df_lat_lng_drop.shape"
   ]
  },
  {
   "cell_type": "code",
   "execution_count": 268,
   "metadata": {},
   "outputs": [
    {
     "data": {
      "text/plain": [
       "(119036, 3)"
      ]
     },
     "execution_count": 268,
     "metadata": {},
     "output_type": "execute_result"
    }
   ],
   "source": [
    "index_names = df_lat_lng_drop[df_lat_lng_drop['Name']==''].index\n",
    "\n",
    "df_lat_lng_drop_2 = df_lat_lng_drop.drop(index_names)\n",
    "df_lat_lng_drop_2.shape"
   ]
  },
  {
   "cell_type": "code",
   "execution_count": 269,
   "metadata": {},
   "outputs": [],
   "source": [
    "df_lat_lng_drop_2.to_csv('Parks/Parks_Final.csv', index=False)"
   ]
  },
  {
   "cell_type": "code",
   "execution_count": 274,
   "metadata": {},
   "outputs": [],
   "source": [
    "array_to_fix = df_lat_lng_drop_2.to_numpy()\n",
    "\n",
    "for i in range(len(array_to_fix)):\n",
    "    array_to_fix[i][0] = array_to_fix[i][0].replace('\\r',' ')\n",
    "    array_to_fix[i][0] = array_to_fix[i][0].replace('\\n',' ')\n",
    "    array_to_fix[i][1] = round(float(array_to_fix[i][1]),9)\n",
    "    array_to_fix[i][2] = round(float(array_to_fix[i][2]),9)"
   ]
  },
  {
   "cell_type": "code",
   "execution_count": 275,
   "metadata": {},
   "outputs": [
    {
     "data": {
      "text/plain": [
       "array([['Mckeithen Park', 41.0598483, -73.5181397],\n",
       "       ['Rippowam Park  Rippowam Park  ', 41.0519069, -73.5421666],\n",
       "       ['Stamford Museum And Nature Center', 41.1260638, -73.5455438],\n",
       "       [\"St. John'S Park\", 41.2008607, -73.1163423],\n",
       "       ['Veterans Memorial Park', 41.0498019, -73.5395765],\n",
       "       ['Finch Meadow / Levine Site', 41.20353095, -73.416568015],\n",
       "       ['Meadowpark Open Space #1', 41.0923959, -73.5538921],\n",
       "       ['Meadowpark Open Space #2', 41.0922582, -73.5530198],\n",
       "       ['Meadowpark Open Space #3', 41.0917453, -73.5519058],\n",
       "       ['Cove Island Park', 41.049069742, -73.504900733],\n",
       "       ['Depreta Park', 41.049003, -73.514721],\n",
       "       ['Mill River Park', 41.0540582, -73.5462758],\n",
       "       ['Woodway Park', 41.1027594, -73.508353],\n",
       "       ['George T. Barrett Field', 41.0761306, -73.532656],\n",
       "       ['Scalzi Park', 41.151578, -73.1284142]], dtype=object)"
      ]
     },
     "execution_count": 275,
     "metadata": {},
     "output_type": "execute_result"
    }
   ],
   "source": [
    "array_to_fix[2400:2415]"
   ]
  },
  {
   "cell_type": "code",
   "execution_count": 276,
   "metadata": {},
   "outputs": [],
   "source": [
    "df_final = pd.DataFrame(array_to_fix, columns=['Park_Name','lat','lng'])\n",
    "df_final.to_csv('Parks/Parks_Final.csv', index=False)"
   ]
  },
  {
   "cell_type": "code",
   "execution_count": 277,
   "metadata": {},
   "outputs": [
    {
     "data": {
      "text/html": [
       "<div>\n",
       "<style scoped>\n",
       "    .dataframe tbody tr th:only-of-type {\n",
       "        vertical-align: middle;\n",
       "    }\n",
       "\n",
       "    .dataframe tbody tr th {\n",
       "        vertical-align: top;\n",
       "    }\n",
       "\n",
       "    .dataframe thead th {\n",
       "        text-align: right;\n",
       "    }\n",
       "</style>\n",
       "<table border=\"1\" class=\"dataframe\">\n",
       "  <thead>\n",
       "    <tr style=\"text-align: right;\">\n",
       "      <th></th>\n",
       "      <th>Park_Name</th>\n",
       "      <th>lat</th>\n",
       "      <th>lng</th>\n",
       "    </tr>\n",
       "  </thead>\n",
       "  <tbody>\n",
       "    <tr>\n",
       "      <th>0</th>\n",
       "      <td>Hampton Hills Park</td>\n",
       "      <td>41.167054</td>\n",
       "      <td>-81.55087</td>\n",
       "    </tr>\n",
       "    <tr>\n",
       "      <th>1</th>\n",
       "      <td>Frank Boulevard Park</td>\n",
       "      <td>41.10977</td>\n",
       "      <td>-81.590503</td>\n",
       "    </tr>\n",
       "    <tr>\n",
       "      <th>2</th>\n",
       "      <td>Fairlawn Heights Park</td>\n",
       "      <td>41.112358</td>\n",
       "      <td>-81.592631</td>\n",
       "    </tr>\n",
       "    <tr>\n",
       "      <th>3</th>\n",
       "      <td>Northwest Park</td>\n",
       "      <td>41.115853</td>\n",
       "      <td>-81.574923</td>\n",
       "    </tr>\n",
       "    <tr>\n",
       "      <th>4</th>\n",
       "      <td>Westgate Manor Park</td>\n",
       "      <td>41.110809</td>\n",
       "      <td>-81.571998</td>\n",
       "    </tr>\n",
       "    <tr>\n",
       "      <th>...</th>\n",
       "      <td>...</td>\n",
       "      <td>...</td>\n",
       "      <td>...</td>\n",
       "    </tr>\n",
       "    <tr>\n",
       "      <th>119031</th>\n",
       "      <td>RiverPark Pool &amp; Park</td>\n",
       "      <td>29.511218</td>\n",
       "      <td>-95.780735</td>\n",
       "    </tr>\n",
       "    <tr>\n",
       "      <th>119032</th>\n",
       "      <td>Searls Pool &amp; Park</td>\n",
       "      <td>29.511218</td>\n",
       "      <td>-95.780735</td>\n",
       "    </tr>\n",
       "    <tr>\n",
       "      <th>119033</th>\n",
       "      <td>The Lakes Park</td>\n",
       "      <td>29.511218</td>\n",
       "      <td>-95.780735</td>\n",
       "    </tr>\n",
       "    <tr>\n",
       "      <th>119034</th>\n",
       "      <td>Sugar Lakes - The Landing Park</td>\n",
       "      <td>29.511218</td>\n",
       "      <td>-95.780735</td>\n",
       "    </tr>\n",
       "    <tr>\n",
       "      <th>119035</th>\n",
       "      <td>Ashford Lakes Trail</td>\n",
       "      <td>29.511218</td>\n",
       "      <td>-95.780735</td>\n",
       "    </tr>\n",
       "  </tbody>\n",
       "</table>\n",
       "<p>119036 rows × 3 columns</p>\n",
       "</div>"
      ],
      "text/plain": [
       "                             Park_Name        lat        lng\n",
       "0                   Hampton Hills Park  41.167054  -81.55087\n",
       "1                 Frank Boulevard Park   41.10977 -81.590503\n",
       "2                Fairlawn Heights Park  41.112358 -81.592631\n",
       "3                       Northwest Park  41.115853 -81.574923\n",
       "4                  Westgate Manor Park  41.110809 -81.571998\n",
       "...                                ...        ...        ...\n",
       "119031           RiverPark Pool & Park  29.511218 -95.780735\n",
       "119032              Searls Pool & Park  29.511218 -95.780735\n",
       "119033                  The Lakes Park  29.511218 -95.780735\n",
       "119034  Sugar Lakes - The Landing Park  29.511218 -95.780735\n",
       "119035             Ashford Lakes Trail  29.511218 -95.780735\n",
       "\n",
       "[119036 rows x 3 columns]"
      ]
     },
     "execution_count": 277,
     "metadata": {},
     "output_type": "execute_result"
    }
   ],
   "source": [
    "df_final"
   ]
  },
  {
   "cell_type": "code",
   "execution_count": null,
   "metadata": {},
   "outputs": [],
   "source": []
  }
 ],
 "metadata": {
  "kernelspec": {
   "display_name": "Python 3",
   "language": "python",
   "name": "python3"
  },
  "language_info": {
   "codemirror_mode": {
    "name": "ipython",
    "version": 3
   },
   "file_extension": ".py",
   "mimetype": "text/x-python",
   "name": "python",
   "nbconvert_exporter": "python",
   "pygments_lexer": "ipython3",
   "version": "3.8.2"
  }
 },
 "nbformat": 4,
 "nbformat_minor": 5
}
