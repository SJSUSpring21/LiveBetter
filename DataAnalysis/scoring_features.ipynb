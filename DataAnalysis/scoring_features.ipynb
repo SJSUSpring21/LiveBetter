{
 "cells": [
  {
   "cell_type": "markdown",
   "metadata": {},
   "source": [
    "### Loading Dataset"
   ]
  },
  {
   "cell_type": "code",
   "execution_count": 1,
   "metadata": {},
   "outputs": [],
   "source": [
    "import pandas as pd\n",
    "import seaborn as sns"
   ]
  },
  {
   "cell_type": "code",
   "execution_count": 2,
   "metadata": {},
   "outputs": [],
   "source": [
    "data = pd.read_csv('/Users/annmarysebastian/Desktop/LiveBetter/Dataset/data.csv')"
   ]
  },
  {
   "cell_type": "code",
   "execution_count": 3,
   "metadata": {},
   "outputs": [
    {
     "data": {
      "text/html": [
       "<div>\n",
       "<style scoped>\n",
       "    .dataframe tbody tr th:only-of-type {\n",
       "        vertical-align: middle;\n",
       "    }\n",
       "\n",
       "    .dataframe tbody tr th {\n",
       "        vertical-align: top;\n",
       "    }\n",
       "\n",
       "    .dataframe thead th {\n",
       "        text-align: right;\n",
       "    }\n",
       "</style>\n",
       "<table border=\"1\" class=\"dataframe\">\n",
       "  <thead>\n",
       "    <tr style=\"text-align: right;\">\n",
       "      <th></th>\n",
       "      <th>loc</th>\n",
       "      <th>lat</th>\n",
       "      <th>lng</th>\n",
       "      <th>Arrest Count</th>\n",
       "      <th>restaurant</th>\n",
       "      <th>school</th>\n",
       "      <th>bus_station</th>\n",
       "      <th>atm</th>\n",
       "      <th>supermarket</th>\n",
       "      <th>park</th>\n",
       "      <th>gym</th>\n",
       "      <th>hospital</th>\n",
       "      <th>hike trail</th>\n",
       "      <th>bike trail</th>\n",
       "    </tr>\n",
       "  </thead>\n",
       "  <tbody>\n",
       "    <tr>\n",
       "      <th>0</th>\n",
       "      <td>36.62,-91.69</td>\n",
       "      <td>36.62</td>\n",
       "      <td>-91.69</td>\n",
       "      <td>41.0</td>\n",
       "      <td>0</td>\n",
       "      <td>0</td>\n",
       "      <td>0</td>\n",
       "      <td>0</td>\n",
       "      <td>0</td>\n",
       "      <td>0</td>\n",
       "      <td>0</td>\n",
       "      <td>0</td>\n",
       "      <td>0</td>\n",
       "      <td>0</td>\n",
       "    </tr>\n",
       "    <tr>\n",
       "      <th>1</th>\n",
       "      <td>41.64,-87.54</td>\n",
       "      <td>41.64</td>\n",
       "      <td>-87.54</td>\n",
       "      <td>1.0</td>\n",
       "      <td>12</td>\n",
       "      <td>1</td>\n",
       "      <td>2</td>\n",
       "      <td>5</td>\n",
       "      <td>0</td>\n",
       "      <td>13</td>\n",
       "      <td>1</td>\n",
       "      <td>0</td>\n",
       "      <td>1</td>\n",
       "      <td>1</td>\n",
       "    </tr>\n",
       "    <tr>\n",
       "      <th>2</th>\n",
       "      <td>41.64,-87.57</td>\n",
       "      <td>41.64</td>\n",
       "      <td>-87.57</td>\n",
       "      <td>0.0</td>\n",
       "      <td>12</td>\n",
       "      <td>4</td>\n",
       "      <td>0</td>\n",
       "      <td>8</td>\n",
       "      <td>0</td>\n",
       "      <td>11</td>\n",
       "      <td>2</td>\n",
       "      <td>1</td>\n",
       "      <td>2</td>\n",
       "      <td>1</td>\n",
       "    </tr>\n",
       "    <tr>\n",
       "      <th>3</th>\n",
       "      <td>41.64,-87.59</td>\n",
       "      <td>41.64</td>\n",
       "      <td>-87.59</td>\n",
       "      <td>0.0</td>\n",
       "      <td>7</td>\n",
       "      <td>3</td>\n",
       "      <td>0</td>\n",
       "      <td>7</td>\n",
       "      <td>0</td>\n",
       "      <td>4</td>\n",
       "      <td>1</td>\n",
       "      <td>1</td>\n",
       "      <td>2</td>\n",
       "      <td>1</td>\n",
       "    </tr>\n",
       "    <tr>\n",
       "      <th>4</th>\n",
       "      <td>41.64,-87.6</td>\n",
       "      <td>41.64</td>\n",
       "      <td>-87.60</td>\n",
       "      <td>2.0</td>\n",
       "      <td>9</td>\n",
       "      <td>17</td>\n",
       "      <td>0</td>\n",
       "      <td>10</td>\n",
       "      <td>1</td>\n",
       "      <td>3</td>\n",
       "      <td>3</td>\n",
       "      <td>0</td>\n",
       "      <td>1</td>\n",
       "      <td>2</td>\n",
       "    </tr>\n",
       "  </tbody>\n",
       "</table>\n",
       "</div>"
      ],
      "text/plain": [
       "            loc    lat    lng  Arrest Count  restaurant  school  bus_station  \\\n",
       "0  36.62,-91.69  36.62 -91.69          41.0           0       0            0   \n",
       "1  41.64,-87.54  41.64 -87.54           1.0          12       1            2   \n",
       "2  41.64,-87.57  41.64 -87.57           0.0          12       4            0   \n",
       "3  41.64,-87.59  41.64 -87.59           0.0           7       3            0   \n",
       "4   41.64,-87.6  41.64 -87.60           2.0           9      17            0   \n",
       "\n",
       "   atm  supermarket  park  gym  hospital  hike trail  bike trail  \n",
       "0    0            0     0    0         0           0           0  \n",
       "1    5            0    13    1         0           1           1  \n",
       "2    8            0    11    2         1           2           1  \n",
       "3    7            0     4    1         1           2           1  \n",
       "4   10            1     3    3         0           1           2  "
      ]
     },
     "execution_count": 3,
     "metadata": {},
     "output_type": "execute_result"
    }
   ],
   "source": [
    "data.head(5)"
   ]
  },
  {
   "cell_type": "markdown",
   "metadata": {},
   "source": [
    "### Examining Features"
   ]
  },
  {
   "cell_type": "code",
   "execution_count": 4,
   "metadata": {},
   "outputs": [
    {
     "data": {
      "text/plain": [
       "Index(['loc', 'lat', 'lng', 'Arrest Count', 'restaurant', 'school',\n",
       "       'bus_station', 'atm', 'supermarket', 'park', 'gym', 'hospital',\n",
       "       'hike trail', 'bike trail'],\n",
       "      dtype='object')"
      ]
     },
     "execution_count": 4,
     "metadata": {},
     "output_type": "execute_result"
    }
   ],
   "source": [
    "data.columns"
   ]
  },
  {
   "cell_type": "code",
   "execution_count": 5,
   "metadata": {},
   "outputs": [
    {
     "data": {
      "image/png": "[encoded data removed]",
      "text/plain": [
       "<Figure size 1080x720 with 12 Axes>"
      ]
     },
     "metadata": {
      "needs_background": "light"
     },
     "output_type": "display_data"
    }
   ],
   "source": [
    "features_list = ['Arrest Count', 'restaurant', 'school','bus_station', 'atm', 'supermarket', 'park', 'gym', 'hospital','hike trail', 'bike trail']\n",
    "\n",
    "axes = data[features_list].hist(bins=25, layout=(3,4), figsize=(15,10))"
   ]
  },
  {
   "cell_type": "code",
   "execution_count": 6,
   "metadata": {},
   "outputs": [],
   "source": [
    "# Examining the above histograms gives an understanding of how the features are spread acroos the dataset."
   ]
  },
  {
   "cell_type": "markdown",
   "metadata": {},
   "source": [
    "### Applying weights to different features"
   ]
  },
  {
   "cell_type": "code",
   "execution_count": 7,
   "metadata": {},
   "outputs": [],
   "source": [
    "weights = pd.DataFrame()"
   ]
  },
  {
   "cell_type": "code",
   "execution_count": 8,
   "metadata": {},
   "outputs": [],
   "source": [
    "def set_safeWeight(row):\n",
    "    safeWeight = row['Arrest Count'] / 100.0\n",
    "    if (safeWeight >= 1):\n",
    "        safeWeight = 1.0 \n",
    "    safeWeight = 1 - safeWeight\n",
    "    return safeWeight"
   ]
  },
  {
   "cell_type": "code",
   "execution_count": 9,
   "metadata": {},
   "outputs": [],
   "source": [
    "def set_atmWeight(row):\n",
    "    atmWeight = row['atm'] / 20.0\n",
    "    if (atmWeight >= 1):\n",
    "        atmWeight = 1.0 \n",
    "    return atmWeight"
   ]
  },
  {
   "cell_type": "code",
   "execution_count": 10,
   "metadata": {},
   "outputs": [],
   "source": [
    "def set_bikeWeight(row):\n",
    "    bikeWeight = row['bike trail'] / 5.0\n",
    "    if (bikeWeight >= 1):\n",
    "        bikeWeight = 1.0 \n",
    "    return bikeWeight"
   ]
  },
  {
   "cell_type": "code",
   "execution_count": 11,
   "metadata": {},
   "outputs": [],
   "source": [
    "def set_busWeight(row):\n",
    "    busWeight = row['bus_station'] / 10.0\n",
    "    if (busWeight >= 1):\n",
    "        busWeight = 1.0 \n",
    "    return busWeight"
   ]
  },
  {
   "cell_type": "code",
   "execution_count": 12,
   "metadata": {},
   "outputs": [],
   "source": [
    "def set_gymWeight(row):\n",
    "    gymWeight = row['gym'] / 10.0\n",
    "    if (gymWeight >= 1):\n",
    "        gymWeight = 1.0 \n",
    "    return gymWeight"
   ]
  },
  {
   "cell_type": "code",
   "execution_count": 13,
   "metadata": {},
   "outputs": [],
   "source": [
    "def set_hikeWeight(row):\n",
    "    hikeWeight = row['hike trail'] / 5.0\n",
    "    if (hikeWeight >= 1):\n",
    "        hikeWeight = 1.0 \n",
    "    return hikeWeight"
   ]
  },
  {
   "cell_type": "code",
   "execution_count": 14,
   "metadata": {},
   "outputs": [],
   "source": [
    "def set_hospitalWeight(row):\n",
    "    hospitalWeight = round(row['hospital'] / 3.0,1)\n",
    "    if (hospitalWeight >= 1):\n",
    "        hospitalWeight = 1.0 \n",
    "    return hospitalWeight"
   ]
  },
  {
   "cell_type": "code",
   "execution_count": 15,
   "metadata": {},
   "outputs": [],
   "source": [
    "def set_restaurantWeight(row):\n",
    "    restaurantWeight = row['restaurant'] / 20.0\n",
    "    if (restaurantWeight >= 1):\n",
    "        restaurantWeight = 1.0 \n",
    "    return restaurantWeight"
   ]
  },
  {
   "cell_type": "code",
   "execution_count": 16,
   "metadata": {},
   "outputs": [],
   "source": [
    "def set_supermarketWeight(row):\n",
    "    supermarketWeight = row['supermarket'] / 10.0\n",
    "    if (supermarketWeight >= 1):\n",
    "        supermarketWeight = 1.0 \n",
    "    return supermarketWeight"
   ]
  },
  {
   "cell_type": "code",
   "execution_count": 17,
   "metadata": {},
   "outputs": [],
   "source": [
    "def set_schoolWeight(row):\n",
    "    schoolWeight = row['school'] / 20.0\n",
    "    if (schoolWeight >= 1):\n",
    "        schoolWeight = 1.0 \n",
    "    return schoolWeight"
   ]
  },
  {
   "cell_type": "code",
   "execution_count": 18,
   "metadata": {},
   "outputs": [],
   "source": [
    "def set_parkWeight(row):\n",
    "    parkWeight = row['park'] / 5.0\n",
    "    if (parkWeight >= 1):\n",
    "        parkWeight = 1.0 \n",
    "    return parkWeight"
   ]
  },
  {
   "cell_type": "code",
   "execution_count": 19,
   "metadata": {},
   "outputs": [],
   "source": [
    "data['safeWeight'] = data.apply(set_safeWeight, axis=1)\n",
    "data['atmWeight'] = data.apply(set_atmWeight, axis=1)\n",
    "data['bikeWeight'] = data.apply(set_bikeWeight, axis=1)\n",
    "data['busWeight'] = data.apply(set_busWeight, axis=1)\n",
    "data['gymWeight'] = data.apply(set_gymWeight, axis=1)\n",
    "data['hikeWeight'] = data.apply(set_hikeWeight, axis=1)\n",
    "data['hospitalWeight'] = data.apply(set_hospitalWeight, axis=1)\n",
    "data['restaurantWeight'] = data.apply(set_restaurantWeight, axis=1)\n",
    "data['supermarketWeight'] = data.apply(set_supermarketWeight, axis=1)\n",
    "data['schoolWeight'] = data.apply(set_schoolWeight, axis=1)\n",
    "data['parkWeight'] = data.apply(set_parkWeight, axis=1)"
   ]
  },
  {
   "cell_type": "code",
   "execution_count": 20,
   "metadata": {},
   "outputs": [],
   "source": [
    "def set_scores(row):\n",
    "    score = ((row['Arrest Count']*row['safeWeight']) + # penalize by 1.5 times\n",
    "             (row['restaurant']*row['atmWeight'])+\n",
    "             (row['school']*row['bikeWeight'])+\n",
    "             (row['bus_station']*row['busWeight'])+\n",
    "             (row['atm']*row['gymWeight'])+\n",
    "             (row['supermarket']*row['hikeWeight'])+\n",
    "             (row['park']*row['hospitalWeight'])+  # penalize by 1 times\n",
    "             (row['gym']*row['restaurantWeight'])+\n",
    "             (row['hospital']*row['supermarketWeight'])+\n",
    "             (row['hike trail']*row['schoolWeight'])+\n",
    "             (row['bike trail']*row['parkWeight']))\n",
    "    return score"
   ]
  },
  {
   "cell_type": "code",
   "execution_count": 21,
   "metadata": {},
   "outputs": [],
   "source": [
    "data['scores'] = data.apply(set_scores, axis=1)"
   ]
  },
  {
   "cell_type": "markdown",
   "metadata": {},
   "source": [
    "### Scaling Scores"
   ]
  },
  {
   "cell_type": "code",
   "execution_count": 26,
   "metadata": {},
   "outputs": [],
   "source": [
    "data['scaled_scores'] = data['scores']\n",
    "from sklearn.preprocessing import MinMaxScaler\n",
    "scaler = MinMaxScaler(feature_range=(0, 10))\n",
    "data['scaled_scores'] = scaler.fit_transform(data[[\"scaled_scores\"]])"
   ]
  },
  {
   "cell_type": "code",
   "execution_count": 28,
   "metadata": {},
   "outputs": [
    {
     "data": {
      "text/plain": [
       "<seaborn.axisgrid.FacetGrid at 0x7facdc6b77f0>"
      ]
     },
     "execution_count": 28,
     "metadata": {},
     "output_type": "execute_result"
    },
    {
     "data": {
      "image/png": "[encoded data removed]",
      "text/plain": [
       "<Figure size 360x360 with 1 Axes>"
      ]
     },
     "metadata": {
      "needs_background": "light"
     },
     "output_type": "display_data"
    }
   ],
   "source": [
    "sns.displot(data['scaled_scores'], bins=10)"
   ]
  }
 ],
 "metadata": {
  "kernelspec": {
   "display_name": "Python 3",
   "language": "python",
   "name": "python3"
  },
  "language_info": {
   "codemirror_mode": {
    "name": "ipython",
    "version": 3
   },
   "file_extension": ".py",
   "mimetype": "text/x-python",
   "name": "python",
   "nbconvert_exporter": "python",
   "pygments_lexer": "ipython3",
   "version": "3.8.5"
  }
 },
 "nbformat": 4,
 "nbformat_minor": 4
}
